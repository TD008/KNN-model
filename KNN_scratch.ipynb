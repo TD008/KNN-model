{
  "nbformat": 4,
  "nbformat_minor": 0,
  "metadata": {
    "colab": {
      "provenance": [],
      "machine_shape": "hm",
      "gpuType": "A100",
      "authorship_tag": "ABX9TyPH+wIU8/qPoI2mmfG3GkXG",
      "include_colab_link": true
    },
    "kernelspec": {
      "name": "python3",
      "display_name": "Python 3"
    },
    "language_info": {
      "name": "python"
    },
    "accelerator": "GPU"
  },
  "cells": [
    {
      "cell_type": "markdown",
      "metadata": {
        "id": "view-in-github",
        "colab_type": "text"
      },
      "source": [
        "<a href=\"https://colab.research.google.com/github/TD008/KNN-model/blob/main/KNN_scratch.ipynb\" target=\"_parent\"><img src=\"https://colab.research.google.com/assets/colab-badge.svg\" alt=\"Open In Colab\"/></a>"
      ]
    },
    {
      "cell_type": "markdown",
      "source": [
        "## Imports and data"
      ],
      "metadata": {
        "id": "vieV6qVc9eEh"
      }
    },
    {
      "cell_type": "code",
      "execution_count": 11,
      "metadata": {
        "id": "t-5MtTumyG5U"
      },
      "outputs": [],
      "source": [
        "import torch\n",
        "import time\n",
        "import pickle\n",
        "import numpy as np\n",
        "import torch.nn.functional as F\n",
        "import matplotlib.pyplot as plt\n",
        "from sklearn.linear_model import LogisticRegression"
      ]
    },
    {
      "cell_type": "code",
      "source": [
        "# Data import\n",
        "f = open('data/mnist.pkl', 'rb')\n",
        "dictionary = pickle.load(f)\n",
        "f.close()\n",
        "\n",
        "X_train = dictionary['training_images']\n",
        "y_train = dictionary['training_labels']\n",
        "X_test = dictionary['test_images']\n",
        "y_test = dictionary['test_labels']\n",
        "#num_labels = 10\n",
        "\n",
        "X_train = torch.from_numpy(X_train).float()\n",
        "y_train = torch.from_numpy(y_train).int()\n",
        "X_test = torch.from_numpy(X_test).float()\n",
        "\n",
        "# Getting data to the GPU\n",
        "device = torch.device(\"cuda\" if torch.cuda.is_available() else \"cpu\")\n",
        "X_train = X_train.to(device)\n",
        "y_train = y_train.to(device)\n",
        "X_test = X_test.to(device)\n",
        "\n"
      ],
      "metadata": {
        "id": "FkRAQnHkgxlV"
      },
      "execution_count": 2,
      "outputs": []
    },
    {
      "cell_type": "markdown",
      "source": [
        "## Distance Forumulas"
      ],
      "metadata": {
        "id": "CXS385ft4LgM"
      }
    },
    {
      "cell_type": "code",
      "source": [
        "def calc_L1(x, y):\n",
        "    diff = x.unsqueeze(1) - y.unsqueeze(0)\n",
        "    return diff.abs().sum(dim=2)\n",
        "\n",
        "def calc_L2(x, y):\n",
        "    diff = x.unsqueeze(1) - y.unsqueeze(0)\n",
        "    return diff.pow(2).sum(dim=2).sqrt()\n",
        "\n",
        "def calc_cosine(x, y):\n",
        "    numerator = (x.unsqueeze(1) * y.unsqueeze(0)).sum(dim=2)\n",
        "\n",
        "    # Compute L2 norms of each row:\n",
        "    norm_x = torch.linalg.norm(x, dim=1, keepdim=True)\n",
        "    norm_y = torch.linalg.norm(y, dim=1, keepdim=True)\n",
        "\n",
        "    # pairwise product of norms\n",
        "    denominator = norm_x * norm_y.T\n",
        "\n",
        "    return numerator / denominator"
      ],
      "metadata": {
        "id": "SN3JrM1n-XWg"
      },
      "execution_count": 3,
      "outputs": []
    },
    {
      "cell_type": "markdown",
      "source": [
        " ## KNN Function"
      ],
      "metadata": {
        "id": "y6LEO433EOQc"
      }
    },
    {
      "cell_type": "code",
      "source": [
        "def knn(x_train, x_test, k, metric, is_cosine=False):\n",
        "    results = []\n",
        "\n",
        "    # batches of 50 to not overwhelm the GPU ram\n",
        "    for i in range(0, x_test.shape[0], 50):\n",
        "        x_test_batch = x_test[i:i+50]\n",
        "        batch_distances = metric(x_test_batch, x_train)\n",
        "        results.append(batch_distances)\n",
        "        torch.cuda.empty_cache()\n",
        "\n",
        "    distances = torch.cat(results, dim=0)\n",
        "\n",
        "    # Find the k smallest distances for each test point\n",
        "    # We have to find the largest values when using cosine\n",
        "    values, indices = distances.topk(k, dim=1, largest=is_cosine, sorted = True)\n",
        "\n",
        "    topk_train = y_train[indices]\n",
        "\n",
        "    # iterate through the top k values for each point and find the most represented\n",
        "    # label\n",
        "    predicted_labels = []\n",
        "    for neighbor_labels in topk_train:\n",
        "        majority_label = torch.bincount(neighbor_labels).argmax()\n",
        "        predicted_labels.append(majority_label)\n",
        "\n",
        "    predicted_labels = torch.stack(predicted_labels)\n",
        "\n",
        "    return predicted_labels"
      ],
      "metadata": {
        "id": "-HV1E50Y5qV0"
      },
      "execution_count": 4,
      "outputs": []
    },
    {
      "cell_type": "markdown",
      "source": [
        "## Applying KNN"
      ],
      "metadata": {
        "id": "9UawQSvFERgY"
      }
    },
    {
      "cell_type": "code",
      "source": [
        "# Hyperparameters\n",
        "K_value = 5\n",
        "distance_metric = calc_L1\n",
        "\n",
        "start = time.time()\n",
        "y_hat_L1 = knn(X_train, X_test, k=K_value, metric=distance_metric).cpu().detach().numpy()\n",
        "execution_time = time.time() - start"
      ],
      "metadata": {
        "id": "WLSDFRAOSUyY"
      },
      "execution_count": 5,
      "outputs": []
    },
    {
      "cell_type": "code",
      "source": [
        "# Accuracy\n",
        "acc = np.mean(y_test == y_hat_L1) * 100\n",
        "print(f'Ran with K = {K_value} and L1 metric in {execution_time:.2f} seconds \\nAccuracy = {acc}')"
      ],
      "metadata": {
        "colab": {
          "base_uri": "https://localhost:8080/"
        },
        "id": "Cq7hNSCnbFe9",
        "outputId": "951295e5-b7fa-458d-9911-96d94990e0ed"
      },
      "execution_count": 9,
      "outputs": [
        {
          "output_type": "stream",
          "name": "stdout",
          "text": [
            "Ran with K = 5 and L1 metric in 97.65 seconds \n",
            "Accuracy = 96.17999999999999\n"
          ]
        }
      ]
    },
    {
      "cell_type": "markdown",
      "source": [],
      "metadata": {
        "id": "1lgfZSraSLFU"
      }
    },
    {
      "cell_type": "markdown",
      "source": [
        "# Testing against linear regression"
      ],
      "metadata": {
        "id": "slw3j_9_EV0N"
      }
    },
    {
      "cell_type": "code",
      "source": [
        "X_train = X_train.cpu().detach().numpy()\n",
        "y_train = y_train.cpu().detach().numpy()\n",
        "X_test = X_test.cpu().detach().numpy()"
      ],
      "metadata": {
        "id": "1j5Se1DDG1Mn"
      },
      "execution_count": 20,
      "outputs": []
    },
    {
      "cell_type": "code",
      "source": [
        "\n",
        "# Logistic Regression model\n",
        "start = time.time()\n",
        "model = LogisticRegression(random_state = 0).fit(X_train, y_train)\n",
        "\n",
        "# Prediction\n",
        "y_hat = model.predict(X_test)\n",
        "execution_time = time.time() - start\n",
        "\n",
        "# Accuracy\n",
        "acc = np.mean(y_test == y_hat) * 100\n",
        "print(f'Accuracy: {acc} \\n in {execution_time} seconds')"
      ],
      "metadata": {
        "colab": {
          "base_uri": "https://localhost:8080/"
        },
        "id": "9nv57C5tHlEk",
        "outputId": "3e6d4ae4-5d41-450f-a290-9b5670ae6d64"
      },
      "execution_count": 21,
      "outputs": [
        {
          "output_type": "stream",
          "name": "stdout",
          "text": [
            "Accuracy: 92.55 \n",
            " in 6.547181606292725 seconds\n"
          ]
        },
        {
          "output_type": "stream",
          "name": "stderr",
          "text": [
            "/usr/local/lib/python3.11/dist-packages/sklearn/linear_model/_logistic.py:465: ConvergenceWarning: lbfgs failed to converge (status=1):\n",
            "STOP: TOTAL NO. of ITERATIONS REACHED LIMIT.\n",
            "\n",
            "Increase the number of iterations (max_iter) or scale the data as shown in:\n",
            "    https://scikit-learn.org/stable/modules/preprocessing.html\n",
            "Please also refer to the documentation for alternative solver options:\n",
            "    https://scikit-learn.org/stable/modules/linear_model.html#logistic-regression\n",
            "  n_iter_i = _check_optimize_result(\n"
          ]
        }
      ]
    },
    {
      "cell_type": "code",
      "source": [],
      "metadata": {
        "id": "i939ZhbwHuoP"
      },
      "execution_count": null,
      "outputs": []
    }
  ]
}