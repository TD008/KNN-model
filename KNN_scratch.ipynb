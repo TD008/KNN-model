{
  "nbformat": 4,
  "nbformat_minor": 0,
  "metadata": {
    "colab": {
      "provenance": [],
      "authorship_tag": "ABX9TyMETuek/lYAD1ElHBuLnldI",
      "include_colab_link": true
    },
    "kernelspec": {
      "name": "python3",
      "display_name": "Python 3"
    },
    "language_info": {
      "name": "python"
    }
  },
  "cells": [
    {
      "cell_type": "markdown",
      "metadata": {
        "id": "view-in-github",
        "colab_type": "text"
      },
      "source": [
        "<a href=\"https://colab.research.google.com/github/TD008/KNN-model/blob/main/KNN_scratch.ipynb\" target=\"_parent\"><img src=\"https://colab.research.google.com/assets/colab-badge.svg\" alt=\"Open In Colab\"/></a>"
      ]
    },
    {
      "cell_type": "code",
      "execution_count": 15,
      "metadata": {
        "id": "t-5MtTumyG5U"
      },
      "outputs": [],
      "source": [
        "import torch\n",
        "import pickle\n",
        "import numpy as np\n",
        "import matplotlib.pyplot as plt"
      ]
    },
    {
      "cell_type": "code",
      "source": [
        "# Importing data\n",
        "f = open('mnist_kaggle.pkl', 'rb')\n",
        "dictionary = pickle.load(f)\n",
        "f.close()\n",
        "\n",
        "X_train = dictionary['training_images']\n",
        "y_train = dictionary['training_labels']\n",
        "X_test = dictionary['test_images']\n",
        "y_test = dictionary['test_labels']\n",
        "num_labels = 10\n",
        "print(X_train.shape)\n",
        "print(y_train.shape)\n",
        "print(X_test.shape)\n",
        "print(y_test.shape)"
      ],
      "metadata": {
        "colab": {
          "base_uri": "https://localhost:8080/",
          "height": 211
        },
        "id": "FkRAQnHkgxlV",
        "outputId": "d24f3d60-0cd7-4d8b-c7ef-ca3b8d8efea6"
      },
      "execution_count": 21,
      "outputs": [
        {
          "output_type": "error",
          "ename": "UnpicklingError",
          "evalue": "pickle data was truncated",
          "traceback": [
            "\u001b[0;31m---------------------------------------------------------------------------\u001b[0m",
            "\u001b[0;31mUnpicklingError\u001b[0m                           Traceback (most recent call last)",
            "\u001b[0;32m<ipython-input-21-cc949e6ffbd6>\u001b[0m in \u001b[0;36m<cell line: 0>\u001b[0;34m()\u001b[0m\n\u001b[1;32m      1\u001b[0m \u001b[0;31m# Importing data\u001b[0m\u001b[0;34m\u001b[0m\u001b[0;34m\u001b[0m\u001b[0m\n\u001b[1;32m      2\u001b[0m \u001b[0mf\u001b[0m \u001b[0;34m=\u001b[0m \u001b[0mopen\u001b[0m\u001b[0;34m(\u001b[0m\u001b[0;34m'mnist_kaggle.pkl'\u001b[0m\u001b[0;34m,\u001b[0m \u001b[0;34m'rb'\u001b[0m\u001b[0;34m)\u001b[0m\u001b[0;34m\u001b[0m\u001b[0;34m\u001b[0m\u001b[0m\n\u001b[0;32m----> 3\u001b[0;31m \u001b[0mdictionary\u001b[0m \u001b[0;34m=\u001b[0m \u001b[0mpickle\u001b[0m\u001b[0;34m.\u001b[0m\u001b[0mload\u001b[0m\u001b[0;34m(\u001b[0m\u001b[0mf\u001b[0m\u001b[0;34m)\u001b[0m\u001b[0;34m\u001b[0m\u001b[0;34m\u001b[0m\u001b[0m\n\u001b[0m\u001b[1;32m      4\u001b[0m \u001b[0mf\u001b[0m\u001b[0;34m.\u001b[0m\u001b[0mclose\u001b[0m\u001b[0;34m(\u001b[0m\u001b[0;34m)\u001b[0m\u001b[0;34m\u001b[0m\u001b[0;34m\u001b[0m\u001b[0m\n\u001b[1;32m      5\u001b[0m \u001b[0;34m\u001b[0m\u001b[0m\n",
            "\u001b[0;31mUnpicklingError\u001b[0m: pickle data was truncated"
          ]
        }
      ]
    },
    {
      "cell_type": "markdown",
      "source": [
        "## 2.B Make KNN faster!"
      ],
      "metadata": {
        "id": "j7EaZvbghUBz"
      }
    },
    {
      "cell_type": "markdown",
      "source": [],
      "metadata": {
        "id": "1lgfZSraSLFU"
      }
    },
    {
      "cell_type": "code",
      "source": [
        "# Applying the avg pooling operation\n",
        "# Original size of data = 28x28\n",
        "data = torch.rand(1,1,28,28)\n",
        "print(data.size())\n",
        "pool2 = torch.nn.AvgPool2d(2, stride=2)\n",
        "pool4 = torch.nn.AvgPool2d(4)\n",
        "\n",
        "new_data = pool2(data)\n",
        "\n"
      ],
      "metadata": {
        "id": "Xsehz3PIybM3",
        "colab": {
          "base_uri": "https://localhost:8080/"
        },
        "outputId": "2d521509-9f06-44f2-9d97-a4f243ab6cdb"
      },
      "execution_count": 14,
      "outputs": [
        {
          "output_type": "stream",
          "name": "stdout",
          "text": [
            "torch.Size([1, 1, 28, 28])\n"
          ]
        }
      ]
    },
    {
      "cell_type": "markdown",
      "source": [
        "## 2.C Make Centroid Method & Logistic Regression faster!"
      ],
      "metadata": {
        "id": "ZG7vpURyhhxR"
      }
    },
    {
      "cell_type": "code",
      "source": [
        "def centroid_computation(X, y, num_centroids = 10):\n",
        "    centroids = []\n",
        "    for c in range(num_centroids):\n",
        "        centroid = np.mean(X[y == c, :], axis = 0)\n",
        "        centroids.append(centroid)\n",
        "    return centroids\n",
        "\n",
        "centroids = centroid_computation(X_train, y_train)\n",
        "\n",
        "def save_img(img, label, file_name, num_rows = 28, num_cols = 28):\n",
        "    example = np.reshape(img, (num_rows, num_cols))\n",
        "    plt.matshow(example)\n",
        "    plt.title(\"This is digit \" + str(label))\n",
        "    plt.savefig(file_name)\n",
        "\n",
        "save_img(X_train[0, :], y_train[0], \"example.png\")\n",
        "\n",
        "for c in range(num_labels):\n",
        "    save_img(centroids[c], c, \"Centroid_\" + str(c) + \".png\")\n",
        "\n",
        "\n",
        "def predict(centroids, X):\n",
        "    num_centroids = len(centroids)\n",
        "    distances = []\n",
        "\n",
        "    for c in range(len(centroids)):\n",
        "        centroid = centroids[c]\n",
        "        distance = np.sum((X - centroid) * (X - centroid), axis = 1)\n",
        "        distances.append(distance)\n",
        "\n",
        "    labels = np.zeros((X.shape[0]))\n",
        "    for r in range(X.shape[0]):\n",
        "        labels[r] = np.argmin(np.array([distances[c][r] for c in range(num_centroids)]))\n",
        "\n",
        "    return labels"
      ],
      "metadata": {
        "id": "Rus2O2wWhGZd"
      },
      "execution_count": null,
      "outputs": []
    },
    {
      "cell_type": "code",
      "source": [
        "# Prediction\n",
        "y_hat = predict(centroids, X_test)"
      ],
      "metadata": {
        "id": "sRTXiYxdirq2"
      },
      "execution_count": null,
      "outputs": []
    },
    {
      "cell_type": "code",
      "source": [
        "# Accuracy\n",
        "acc = np.mean(y_test == y_hat) * 100\n",
        "print('Accuracy:', acc)"
      ],
      "metadata": {
        "id": "pVfRz8BMin8Y"
      },
      "execution_count": null,
      "outputs": []
    },
    {
      "cell_type": "code",
      "source": [
        "# Confusion matrix\n",
        "confusion = np.zeros((num_labels, num_labels))\n",
        "for i in range(X_test.shape[0]):\n",
        "    confusion[int(y_test[i]), int(y_hat[i])] += 1\n",
        "for i in range(num_labels):\n",
        "    confusion[i, :] = confusion[i, :] / np.sum(confusion[i, :]) * 100\n",
        "print('Confusion matrix:')\n",
        "print(confusion)\n",
        "plt.matshow(confusion)\n",
        "plt.title(\"Confusion matrix. Average accuracy = \" + str(acc) + \".\")\n",
        "plt.savefig(\"confusion.png\")\n",
        "print(\"Done\")"
      ],
      "metadata": {
        "id": "dZpfZpS0hq1k"
      },
      "execution_count": null,
      "outputs": []
    }
  ]
}